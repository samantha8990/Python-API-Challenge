{
 "cells": [
  {
   "cell_type": "markdown",
   "metadata": {},
   "source": [
    "# VacationPy\n",
    "----\n",
    "\n",
    "#### Note\n",
    "* Keep an eye on your API usage. Use https://developers.google.com/maps/reporting/gmp-reporting as reference for how to monitor your usage and billing.\n",
    "\n",
    "* Instructions have been included for each segment. You do not have to follow them exactly, but they are included to help you think through the steps."
   ]
  },
  {
   "cell_type": "code",
   "execution_count": 7,
   "metadata": {},
   "outputs": [],
   "source": [
    "# Dependencies and Setup\n",
    "import matplotlib.pyplot as plt\n",
    "import pandas as pd\n",
    "import numpy as np\n",
    "import requests\n",
    "import gmaps\n",
    "import os\n",
    "import json\n",
    "\n",
    "# Import API key\n",
    "from api_keys import g_key"
   ]
  },
  {
   "cell_type": "markdown",
   "metadata": {},
   "source": [
    "### Store Part I results into DataFrame\n",
    "* Load the csv exported in Part I to a DataFrame"
   ]
  },
  {
   "cell_type": "code",
   "execution_count": 10,
   "metadata": {},
   "outputs": [
    {
     "output_type": "execute_result",
     "data": {
      "text/plain": [
       "              City      Lat       Lng  Max Temp  Humidity  Clouds  Wind Speed  \\\n",
       "0         Hermanus -34.4187   19.2345     71.01        73       0        5.99   \n",
       "1            Bluff -46.6000  168.3333     45.00        97     100        3.00   \n",
       "2        Ugoofaaru   5.6667   73.0000     82.06        78      20        9.71   \n",
       "3           Vostok  46.4856  135.8833     43.41        55     100        3.94   \n",
       "4     Forsytheganj  52.6333   29.7333     45.55        90      94        4.09   \n",
       "..             ...      ...       ...       ...       ...     ...         ...   \n",
       "568         Tamuín  21.9833  -98.7500     93.99        34      57        9.57   \n",
       "569  Berdigestyakh  62.0989  126.6992      9.84        97      99        4.68   \n",
       "570    Ust'-Omchug  61.1500  149.6333     22.93        95     100        3.47   \n",
       "571       Pavlodar  52.3000   76.9500     19.40        79       0        6.71   \n",
       "572           Mago  53.2514  140.1822     34.83        93     100        1.63   \n",
       "\n",
       "    Country        Date  \n",
       "0        ZA  1619122018  \n",
       "1        NZ  1619121897  \n",
       "2        MV  1619122018  \n",
       "3        RU  1619122019  \n",
       "4        BY  1619121931  \n",
       "..      ...         ...  \n",
       "568      MX  1619122216  \n",
       "569      RU  1619122217  \n",
       "570      RU  1619122217  \n",
       "571      KZ  1619122217  \n",
       "572      RU  1619122218  \n",
       "\n",
       "[573 rows x 9 columns]"
      ],
      "text/html": "<div>\n<style scoped>\n    .dataframe tbody tr th:only-of-type {\n        vertical-align: middle;\n    }\n\n    .dataframe tbody tr th {\n        vertical-align: top;\n    }\n\n    .dataframe thead th {\n        text-align: right;\n    }\n</style>\n<table border=\"1\" class=\"dataframe\">\n  <thead>\n    <tr style=\"text-align: right;\">\n      <th></th>\n      <th>City</th>\n      <th>Lat</th>\n      <th>Lng</th>\n      <th>Max Temp</th>\n      <th>Humidity</th>\n      <th>Clouds</th>\n      <th>Wind Speed</th>\n      <th>Country</th>\n      <th>Date</th>\n    </tr>\n  </thead>\n  <tbody>\n    <tr>\n      <th>0</th>\n      <td>Hermanus</td>\n      <td>-34.4187</td>\n      <td>19.2345</td>\n      <td>71.01</td>\n      <td>73</td>\n      <td>0</td>\n      <td>5.99</td>\n      <td>ZA</td>\n      <td>1619122018</td>\n    </tr>\n    <tr>\n      <th>1</th>\n      <td>Bluff</td>\n      <td>-46.6000</td>\n      <td>168.3333</td>\n      <td>45.00</td>\n      <td>97</td>\n      <td>100</td>\n      <td>3.00</td>\n      <td>NZ</td>\n      <td>1619121897</td>\n    </tr>\n    <tr>\n      <th>2</th>\n      <td>Ugoofaaru</td>\n      <td>5.6667</td>\n      <td>73.0000</td>\n      <td>82.06</td>\n      <td>78</td>\n      <td>20</td>\n      <td>9.71</td>\n      <td>MV</td>\n      <td>1619122018</td>\n    </tr>\n    <tr>\n      <th>3</th>\n      <td>Vostok</td>\n      <td>46.4856</td>\n      <td>135.8833</td>\n      <td>43.41</td>\n      <td>55</td>\n      <td>100</td>\n      <td>3.94</td>\n      <td>RU</td>\n      <td>1619122019</td>\n    </tr>\n    <tr>\n      <th>4</th>\n      <td>Forsytheganj</td>\n      <td>52.6333</td>\n      <td>29.7333</td>\n      <td>45.55</td>\n      <td>90</td>\n      <td>94</td>\n      <td>4.09</td>\n      <td>BY</td>\n      <td>1619121931</td>\n    </tr>\n    <tr>\n      <th>...</th>\n      <td>...</td>\n      <td>...</td>\n      <td>...</td>\n      <td>...</td>\n      <td>...</td>\n      <td>...</td>\n      <td>...</td>\n      <td>...</td>\n      <td>...</td>\n    </tr>\n    <tr>\n      <th>568</th>\n      <td>Tamuín</td>\n      <td>21.9833</td>\n      <td>-98.7500</td>\n      <td>93.99</td>\n      <td>34</td>\n      <td>57</td>\n      <td>9.57</td>\n      <td>MX</td>\n      <td>1619122216</td>\n    </tr>\n    <tr>\n      <th>569</th>\n      <td>Berdigestyakh</td>\n      <td>62.0989</td>\n      <td>126.6992</td>\n      <td>9.84</td>\n      <td>97</td>\n      <td>99</td>\n      <td>4.68</td>\n      <td>RU</td>\n      <td>1619122217</td>\n    </tr>\n    <tr>\n      <th>570</th>\n      <td>Ust'-Omchug</td>\n      <td>61.1500</td>\n      <td>149.6333</td>\n      <td>22.93</td>\n      <td>95</td>\n      <td>100</td>\n      <td>3.47</td>\n      <td>RU</td>\n      <td>1619122217</td>\n    </tr>\n    <tr>\n      <th>571</th>\n      <td>Pavlodar</td>\n      <td>52.3000</td>\n      <td>76.9500</td>\n      <td>19.40</td>\n      <td>79</td>\n      <td>0</td>\n      <td>6.71</td>\n      <td>KZ</td>\n      <td>1619122217</td>\n    </tr>\n    <tr>\n      <th>572</th>\n      <td>Mago</td>\n      <td>53.2514</td>\n      <td>140.1822</td>\n      <td>34.83</td>\n      <td>93</td>\n      <td>100</td>\n      <td>1.63</td>\n      <td>RU</td>\n      <td>1619122218</td>\n    </tr>\n  </tbody>\n</table>\n<p>573 rows × 9 columns</p>\n</div>"
     },
     "metadata": {},
     "execution_count": 10
    }
   ],
   "source": [
    "vacation=(\"cities_updated.csv\")\n",
    "weather_data=pd.read_csv(vacation)\n",
    "weather_data\n"
   ]
  },
  {
   "cell_type": "markdown",
   "metadata": {},
   "source": [
    "### Humidity Heatmap\n",
    "* Configure gmaps.\n",
    "* Use the Lat and Lng as locations and Humidity as the weight.\n",
    "* Add Heatmap layer to map."
   ]
  },
  {
   "cell_type": "code",
   "execution_count": 11,
   "metadata": {},
   "outputs": [],
   "source": [
    "gmaps.configure(api_key=g_key)\n",
    "\n",
    "locations=weather_data[['Lat', 'Lng']]\n",
    "humidity=weather_data['Humidity']\n",
    "\n"
   ]
  },
  {
   "cell_type": "code",
   "execution_count": null,
   "metadata": {},
   "outputs": [],
   "source": []
  },
  {
   "cell_type": "markdown",
   "metadata": {},
   "source": [
    "### Create new DataFrame fitting weather criteria\n",
    "* Narrow down the cities to fit weather conditions.\n",
    "* Drop any rows will null values."
   ]
  },
  {
   "cell_type": "code",
   "execution_count": null,
   "metadata": {},
   "outputs": [],
   "source": []
  },
  {
   "cell_type": "markdown",
   "metadata": {},
   "source": [
    "### Hotel Map\n",
    "* Store into variable named `hotel_df`.\n",
    "* Add a \"Hotel Name\" column to the DataFrame.\n",
    "* Set parameters to search for hotels with 5000 meters.\n",
    "* Hit the Google Places API for each city's coordinates.\n",
    "* Store the first Hotel result into the DataFrame.\n",
    "* Plot markers on top of the heatmap."
   ]
  },
  {
   "cell_type": "code",
   "execution_count": null,
   "metadata": {},
   "outputs": [],
   "source": []
  },
  {
   "cell_type": "code",
   "execution_count": null,
   "metadata": {},
   "outputs": [],
   "source": []
  },
  {
   "cell_type": "code",
   "execution_count": null,
   "metadata": {},
   "outputs": [],
   "source": [
    "# NOTE: Do not change any of the code in this cell\n",
    "\n",
    "# Using the template add the hotel marks to the heatmap\n",
    "info_box_template = \"\"\"\n",
    "<dl>\n",
    "<dt>Name</dt><dd>{Hotel Name}</dd>\n",
    "<dt>City</dt><dd>{City}</dd>\n",
    "<dt>Country</dt><dd>{Country}</dd>\n",
    "</dl>\n",
    "\"\"\"\n",
    "# Store the DataFrame Row\n",
    "# NOTE: be sure to update with your DataFrame name\n",
    "hotel_info = [info_box_template.format(**row) for index, row in hotel_df.iterrows()]\n",
    "locations = hotel_df[[\"Lat\", \"Lng\"]]"
   ]
  },
  {
   "cell_type": "code",
   "execution_count": null,
   "metadata": {},
   "outputs": [],
   "source": [
    "# Add marker layer ontop of heat map\n",
    "\n",
    "\n",
    "# Display figure\n"
   ]
  },
  {
   "cell_type": "code",
   "execution_count": null,
   "metadata": {},
   "outputs": [],
   "source": []
  }
 ],
 "metadata": {
  "kernelspec": {
   "name": "python379jvsc74a57bd0c9b8f97cee7e20f63a0d8ed352f09a44de6637e294d79ea54455f889e62dfa06",
   "display_name": "Python 3.7.9 64-bit ('PythonData': conda)"
  },
  "language_info": {
   "codemirror_mode": {
    "name": "ipython",
    "version": 3
   },
   "file_extension": ".py",
   "mimetype": "text/x-python",
   "name": "python",
   "nbconvert_exporter": "python",
   "pygments_lexer": "ipython3",
   "version": "3.7.9"
  },
  "latex_envs": {
   "LaTeX_envs_menu_present": true,
   "autoclose": false,
   "autocomplete": true,
   "bibliofile": "biblio.bib",
   "cite_by": "apalike",
   "current_citInitial": 1,
   "eqLabelWithNumbers": true,
   "eqNumInitial": 1,
   "hotkeys": {
    "equation": "Ctrl-E",
    "itemize": "Ctrl-I"
   },
   "labels_anchors": false,
   "latex_user_defs": false,
   "report_style_numbering": false,
   "user_envs_cfg": false
  }
 },
 "nbformat": 4,
 "nbformat_minor": 4
}